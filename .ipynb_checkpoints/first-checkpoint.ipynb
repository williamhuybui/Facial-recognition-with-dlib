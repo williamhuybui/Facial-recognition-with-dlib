{
 "cells": [
  {
   "cell_type": "code",
   "execution_count": 3,
   "metadata": {},
   "outputs": [],
   "source": [
    "import io\n",
    "import pandas as pd\n",
    "from PIL import Image,ImageDraw, ImageFont\n",
    "import face_recognition\n",
    "import numpy as np\n",
    "from tqdm import tqdm\n",
    "from statistics import mode\n",
    "import time\n",
    "from os import listdir\n",
    "from os.path import isfile, join"
   ]
  },
  {
   "cell_type": "code",
   "execution_count": 4,
   "metadata": {},
   "outputs": [],
   "source": [
    "def display_IMG(imgsource):\n",
    "    a=Image.open(imgsource)\n",
    "    a.show()"
   ]
  },
  {
   "cell_type": "code",
   "execution_count": 5,
   "metadata": {},
   "outputs": [],
   "source": [
    "def drawVertices(image_source):\n",
    "    pillow_img = Image.open(io.BytesIO(image_source))\n",
    "    draw = ImageDraw.Draw(pillow_img)\n",
    "    font = ImageFont.truetype('/Library/Fonts/Arial.ttf', 30) #Maybe different on non-Mac\n",
    "    locations=face_recognition.face_locations(image_source)\n",
    "    for i in locations: #top, left, bottom, right\n",
    "        top, left, bottom, right=i\n",
    "        p1=(top,right)\n",
    "        p2=(top,left)\n",
    "        p3=(bottom,left)\n",
    "        p4=(bottom,right)\n",
    "        for vertices in ((p1,p2),(p2,p3),(p3,p4),(p4,p1)):\n",
    "            draw.line(((vertices[0][1], vertices[0][0]), (vertices[1][1], vertices[1][0])),\n",
    "                        fill='green',\n",
    "                        width=8\n",
    "                )\n",
    "#         draw.text((vertices[0].x + 10, vertices[0].y),\n",
    "#               font=font, text=text_list[index], \n",
    "#               fill=(255, 255, 255))\n",
    "    return pillow_img"
   ]
  },
  {
   "cell_type": "code",
   "execution_count": 6,
   "metadata": {},
   "outputs": [],
   "source": [
    "#This function return the RBG array\n",
    "def createListImgArray(jpg_list):\n",
    "    array_list=[]\n",
    "    for image_dir in tqdm(jpg_list):\n",
    "        image=face_recognition.load_image_file(image_dir)\n",
    "        face_locations = face_recognition.face_locations(image)\n",
    "\n",
    "        for face_location in face_locations:\n",
    "\n",
    "            top, right, bottom, left = face_location\n",
    "            face_image = image[top:bottom, left:right]\n",
    "            array_list.append(face_image)\n",
    "    return np.array(array_list)"
   ]
  },
  {
   "cell_type": "markdown",
   "metadata": {},
   "source": [
    "# Import train/test"
   ]
  },
  {
   "cell_type": "code",
   "execution_count": 24,
   "metadata": {},
   "outputs": [
    {
     "name": "stderr",
     "output_type": "stream",
     "text": [
      "100%|██████████| 9/9 [00:03<00:00,  3.49it/s]\n"
     ]
    }
   ],
   "source": [
    "#Train\n",
    "folder_dir=\"train_v1\"\n",
    "jpg_train_list = [folder_dir+'/'+f for f in listdir(folder_dir) if (f.split(\".\")[1] in [\"jpg\",\"jpeg\"])]\n",
    "train_img=createListImgArray(jpg_train_list)"
   ]
  },
  {
   "cell_type": "code",
   "execution_count": 25,
   "metadata": {},
   "outputs": [
    {
     "name": "stdout",
     "output_type": "stream",
     "text": [
      "0 Who is this(Initials): TT\n",
      "1 Who is this(Initials): TTB\n",
      "2 Who is this(Initials): HW\n",
      "3 Who is this(Initials): HW\n",
      "4 Who is this(Initials): TTB\n",
      "5 Who is this(Initials): TT\n",
      "6 Who is this(Initials): TT\n",
      "7 Who is this(Initials): TTB\n",
      "8 Who is this(Initials): TT\n",
      "9 Who is this(Initials): TT\n",
      "10 Who is this(Initials): HW\n",
      "11 Who is this(Initials): TT\n"
     ]
    }
   ],
   "source": [
    "#Label. \n",
    "#If do not know or do not care, enter 0\n",
    "labels=[]\n",
    "for i in range(len(train_img)):\n",
    "    image=Image.fromarray(train_img[i])\n",
    "    image.show()\n",
    "    val = input(\"{} Who is this(Initials): \".format(i)) \n",
    "    labels.append(val)\n"
   ]
  },
  {
   "cell_type": "code",
   "execution_count": 26,
   "metadata": {},
   "outputs": [
    {
     "name": "stderr",
     "output_type": "stream",
     "text": [
      "100%|██████████| 5/5 [00:01<00:00,  3.34it/s]\n"
     ]
    }
   ],
   "source": [
    "#Test\n",
    "folder_dir=\"test_v1\"\n",
    "jpg_test_list = [folder_dir+'/'+f for f in listdir(folder_dir) if (f.split(\".\")[1] in [\"jpg\",\"jpeg\"])]\n",
    "test_img=createListImgArray(jpg_test_list)"
   ]
  },
  {
   "cell_type": "code",
   "execution_count": 35,
   "metadata": {},
   "outputs": [],
   "source": [
    "#Embedding to a 1D vector\n",
    "train_clean=np.array([face_recognition.face_encodings(i)[0] for i in train_img])\n",
    "test_clean=np.array([face_recognition.face_encodings(i)[0] for i in test_img])"
   ]
  },
  {
   "cell_type": "code",
   "execution_count": 32,
   "metadata": {},
   "outputs": [
    {
     "data": {
      "text/plain": [
       "array([-0.14011672,  0.05298756,  0.08364242, -0.02494364, -0.11147099,\n",
       "       -0.03258045, -0.10963631, -0.10734752,  0.09788394, -0.13811854,\n",
       "        0.15200348, -0.05047815, -0.19933251, -0.06713971,  0.01031205,\n",
       "        0.15550795, -0.13686389, -0.17045683, -0.01326153,  0.02384602,\n",
       "        0.1009816 ,  0.01153877,  0.03633279,  0.0353216 , -0.15054806,\n",
       "       -0.31188932, -0.10477401, -0.07136108, -0.02246147, -0.04264772,\n",
       "       -0.11653801,  0.01834015, -0.1845201 , -0.00969277,  0.0204502 ,\n",
       "        0.09884808,  0.01169335, -0.01585351,  0.18219972,  0.03659082,\n",
       "       -0.25619751,  0.01221883, -0.00367445,  0.22533624,  0.1657964 ,\n",
       "        0.0596808 ,  0.00628618, -0.11580293,  0.10714531, -0.17635478,\n",
       "        0.04516238,  0.20214707,  0.07410692,  0.05794928, -0.05318747,\n",
       "       -0.10375133,  0.04405656,  0.04699229, -0.11020054,  0.05874955,\n",
       "        0.09982309, -0.10427324, -0.07863401, -0.10390541,  0.26576909,\n",
       "        0.0704724 , -0.14778551, -0.19882818,  0.09351037, -0.12257847,\n",
       "       -0.14994565,  0.05517993, -0.20631078, -0.15370704, -0.3087157 ,\n",
       "       -0.02135202,  0.36321318,  0.05462641, -0.25802603,  0.06107476,\n",
       "       -0.08778711,  0.00115214,  0.07111637,  0.21226667,  0.00436271,\n",
       "        0.09011741, -0.04903497,  0.00196646,  0.24808206, -0.09736015,\n",
       "       -0.02336291,  0.22121745,  0.04266163,  0.14118019,  0.02752017,\n",
       "        0.02179104,  0.00446626, -0.03606744, -0.1125939 , -0.02104846,\n",
       "        0.05793585, -0.04264998, -0.03292787,  0.11951481, -0.1861431 ,\n",
       "        0.19398594,  0.01559628,  0.04421249,  0.03507292,  0.01321842,\n",
       "       -0.12744904, -0.08867703,  0.12641928, -0.21935248,  0.20258817,\n",
       "        0.22896284,  0.10407422,  0.06896511,  0.11805993,  0.10215567,\n",
       "       -0.01615556,  0.07359655, -0.20619182, -0.04311803,  0.1169209 ,\n",
       "       -0.04210629,  0.04971977,  0.04004892])"
      ]
     },
     "execution_count": 32,
     "metadata": {},
     "output_type": "execute_result"
    }
   ],
   "source": [
    "train_clean[0]"
   ]
  },
  {
   "cell_type": "markdown",
   "metadata": {},
   "source": [
    "### Traditional Machine Learning"
   ]
  },
  {
   "cell_type": "code",
   "execution_count": 38,
   "metadata": {},
   "outputs": [
    {
     "data": {
      "text/html": [
       "<div>\n",
       "<style scoped>\n",
       "    .dataframe tbody tr th:only-of-type {\n",
       "        vertical-align: middle;\n",
       "    }\n",
       "\n",
       "    .dataframe tbody tr th {\n",
       "        vertical-align: top;\n",
       "    }\n",
       "\n",
       "    .dataframe thead th {\n",
       "        text-align: right;\n",
       "    }\n",
       "</style>\n",
       "<table border=\"1\" class=\"dataframe\">\n",
       "  <thead>\n",
       "    <tr style=\"text-align: right;\">\n",
       "      <th></th>\n",
       "      <th>p0</th>\n",
       "      <th>p1</th>\n",
       "      <th>p2</th>\n",
       "      <th>p3</th>\n",
       "      <th>p4</th>\n",
       "      <th>p5</th>\n",
       "      <th>p6</th>\n",
       "      <th>p7</th>\n",
       "      <th>p8</th>\n",
       "      <th>p9</th>\n",
       "      <th>...</th>\n",
       "      <th>p119</th>\n",
       "      <th>p120</th>\n",
       "      <th>p121</th>\n",
       "      <th>p122</th>\n",
       "      <th>p123</th>\n",
       "      <th>p124</th>\n",
       "      <th>p125</th>\n",
       "      <th>p126</th>\n",
       "      <th>p127</th>\n",
       "      <th>labels</th>\n",
       "    </tr>\n",
       "  </thead>\n",
       "  <tbody>\n",
       "    <tr>\n",
       "      <th>0</th>\n",
       "      <td>-0.140117</td>\n",
       "      <td>0.052988</td>\n",
       "      <td>0.083642</td>\n",
       "      <td>-0.024944</td>\n",
       "      <td>-0.111471</td>\n",
       "      <td>-0.032580</td>\n",
       "      <td>-0.109636</td>\n",
       "      <td>-0.107348</td>\n",
       "      <td>0.097884</td>\n",
       "      <td>-0.138119</td>\n",
       "      <td>...</td>\n",
       "      <td>0.102156</td>\n",
       "      <td>-0.016156</td>\n",
       "      <td>0.073597</td>\n",
       "      <td>-0.206192</td>\n",
       "      <td>-0.043118</td>\n",
       "      <td>0.116921</td>\n",
       "      <td>-0.042106</td>\n",
       "      <td>0.049720</td>\n",
       "      <td>0.040049</td>\n",
       "      <td>TT</td>\n",
       "    </tr>\n",
       "    <tr>\n",
       "      <th>1</th>\n",
       "      <td>-0.111981</td>\n",
       "      <td>0.091927</td>\n",
       "      <td>0.116295</td>\n",
       "      <td>-0.009222</td>\n",
       "      <td>-0.073756</td>\n",
       "      <td>0.027458</td>\n",
       "      <td>-0.010509</td>\n",
       "      <td>-0.073651</td>\n",
       "      <td>0.158237</td>\n",
       "      <td>-0.144431</td>\n",
       "      <td>...</td>\n",
       "      <td>0.090781</td>\n",
       "      <td>0.061036</td>\n",
       "      <td>-0.049957</td>\n",
       "      <td>-0.290129</td>\n",
       "      <td>-0.002929</td>\n",
       "      <td>0.100788</td>\n",
       "      <td>0.030079</td>\n",
       "      <td>0.032895</td>\n",
       "      <td>0.024566</td>\n",
       "      <td>TTB</td>\n",
       "    </tr>\n",
       "    <tr>\n",
       "      <th>2</th>\n",
       "      <td>-0.105103</td>\n",
       "      <td>0.031427</td>\n",
       "      <td>0.052956</td>\n",
       "      <td>-0.071866</td>\n",
       "      <td>-0.100171</td>\n",
       "      <td>0.021823</td>\n",
       "      <td>-0.049201</td>\n",
       "      <td>-0.048006</td>\n",
       "      <td>0.184224</td>\n",
       "      <td>-0.192372</td>\n",
       "      <td>...</td>\n",
       "      <td>0.078232</td>\n",
       "      <td>-0.026994</td>\n",
       "      <td>0.030171</td>\n",
       "      <td>-0.226149</td>\n",
       "      <td>0.002743</td>\n",
       "      <td>0.109810</td>\n",
       "      <td>-0.050459</td>\n",
       "      <td>0.092491</td>\n",
       "      <td>-0.026383</td>\n",
       "      <td>HW</td>\n",
       "    </tr>\n",
       "    <tr>\n",
       "      <th>3</th>\n",
       "      <td>-0.079459</td>\n",
       "      <td>0.104681</td>\n",
       "      <td>0.036328</td>\n",
       "      <td>-0.108435</td>\n",
       "      <td>-0.119209</td>\n",
       "      <td>-0.000644</td>\n",
       "      <td>-0.079736</td>\n",
       "      <td>-0.117312</td>\n",
       "      <td>0.178081</td>\n",
       "      <td>-0.155206</td>\n",
       "      <td>...</td>\n",
       "      <td>0.093729</td>\n",
       "      <td>-0.022146</td>\n",
       "      <td>-0.034560</td>\n",
       "      <td>-0.250002</td>\n",
       "      <td>-0.001865</td>\n",
       "      <td>0.096188</td>\n",
       "      <td>-0.028598</td>\n",
       "      <td>0.095165</td>\n",
       "      <td>-0.002170</td>\n",
       "      <td>HW</td>\n",
       "    </tr>\n",
       "    <tr>\n",
       "      <th>4</th>\n",
       "      <td>-0.111215</td>\n",
       "      <td>0.105983</td>\n",
       "      <td>0.056718</td>\n",
       "      <td>-0.022127</td>\n",
       "      <td>-0.072504</td>\n",
       "      <td>-0.029562</td>\n",
       "      <td>-0.074751</td>\n",
       "      <td>-0.123432</td>\n",
       "      <td>0.142141</td>\n",
       "      <td>-0.118232</td>\n",
       "      <td>...</td>\n",
       "      <td>0.066456</td>\n",
       "      <td>0.053479</td>\n",
       "      <td>-0.051758</td>\n",
       "      <td>-0.244833</td>\n",
       "      <td>-0.033363</td>\n",
       "      <td>0.097838</td>\n",
       "      <td>-0.011814</td>\n",
       "      <td>0.000055</td>\n",
       "      <td>-0.007527</td>\n",
       "      <td>TTB</td>\n",
       "    </tr>\n",
       "  </tbody>\n",
       "</table>\n",
       "<p>5 rows × 129 columns</p>\n",
       "</div>"
      ],
      "text/plain": [
       "         p0        p1        p2        p3        p4        p5        p6  \\\n",
       "0 -0.140117  0.052988  0.083642 -0.024944 -0.111471 -0.032580 -0.109636   \n",
       "1 -0.111981  0.091927  0.116295 -0.009222 -0.073756  0.027458 -0.010509   \n",
       "2 -0.105103  0.031427  0.052956 -0.071866 -0.100171  0.021823 -0.049201   \n",
       "3 -0.079459  0.104681  0.036328 -0.108435 -0.119209 -0.000644 -0.079736   \n",
       "4 -0.111215  0.105983  0.056718 -0.022127 -0.072504 -0.029562 -0.074751   \n",
       "\n",
       "         p7        p8        p9  ...      p119      p120      p121      p122  \\\n",
       "0 -0.107348  0.097884 -0.138119  ...  0.102156 -0.016156  0.073597 -0.206192   \n",
       "1 -0.073651  0.158237 -0.144431  ...  0.090781  0.061036 -0.049957 -0.290129   \n",
       "2 -0.048006  0.184224 -0.192372  ...  0.078232 -0.026994  0.030171 -0.226149   \n",
       "3 -0.117312  0.178081 -0.155206  ...  0.093729 -0.022146 -0.034560 -0.250002   \n",
       "4 -0.123432  0.142141 -0.118232  ...  0.066456  0.053479 -0.051758 -0.244833   \n",
       "\n",
       "       p123      p124      p125      p126      p127  labels  \n",
       "0 -0.043118  0.116921 -0.042106  0.049720  0.040049      TT  \n",
       "1 -0.002929  0.100788  0.030079  0.032895  0.024566     TTB  \n",
       "2  0.002743  0.109810 -0.050459  0.092491 -0.026383      HW  \n",
       "3 -0.001865  0.096188 -0.028598  0.095165 -0.002170      HW  \n",
       "4 -0.033363  0.097838 -0.011814  0.000055 -0.007527     TTB  \n",
       "\n",
       "[5 rows x 129 columns]"
      ]
     },
     "execution_count": 38,
     "metadata": {},
     "output_type": "execute_result"
    }
   ],
   "source": [
    "#Create the train data frame\n",
    "df_clean=pd.DataFrame({})\n",
    "for i in range(len(train_clean[0])):\n",
    "    df_clean['p'+str(i)]=train_clean[:,i]\n",
    "df_clean['labels']=labels\n",
    "df_clean.head()"
   ]
  },
  {
   "cell_type": "code",
   "execution_count": 41,
   "metadata": {},
   "outputs": [],
   "source": [
    "#Create the test data frame\n",
    "test=pd.DataFrame({})\n",
    "for i in range(len(test_clean[0])):\n",
    "    test['p'+str(i)]=test_clean[:,i]"
   ]
  },
  {
   "cell_type": "code",
   "execution_count": 42,
   "metadata": {},
   "outputs": [
    {
     "data": {
      "text/plain": [
       "array(['TT', 'TT', 'TT', 'TT', 'HW', 'TTB', 'TT', 'TT', 'HW', 'TT', 'TTB',\n",
       "       'TT'], dtype=object)"
      ]
     },
     "execution_count": 42,
     "metadata": {},
     "output_type": "execute_result"
    }
   ],
   "source": [
    "from xgboost import XGBClassifier\n",
    "from sklearn.model_selection import cross_val_score\n",
    "\n",
    "X = df_clean.drop('labels',axis=1)\n",
    "y=df_clean['labels']\n",
    "\n",
    "xgb = XGBClassifier()\n",
    "scores = cross_val_score(xgb, X, y, cv=3)\n",
    "xgb.fit(X,y)\n",
    "xgb.predict(test)"
   ]
  },
  {
   "cell_type": "code",
   "execution_count": 88,
   "metadata": {},
   "outputs": [
    {
     "data": {
      "image/png": "[encoded data removed]",
      "text/plain": [
       "<PIL.Image.Image image mode=RGB size=75x75 at 0x11EC9AD30>"
      ]
     },
     "execution_count": 88,
     "metadata": {},
     "output_type": "execute_result"
    }
   ],
   "source": [
    "Image.fromarray(test_img[9])"
   ]
  },
  {
   "cell_type": "markdown",
   "metadata": {},
   "source": [
    "### face_recognition_approach"
   ]
  },
  {
   "cell_type": "code",
   "execution_count": 85,
   "metadata": {},
   "outputs": [],
   "source": [
    "pic_no=3\n",
    "results = face_recognition.compare_faces(train_clean, test_clean[pic_no])"
   ]
  },
  {
   "cell_type": "code",
   "execution_count": 86,
   "metadata": {},
   "outputs": [
    {
     "name": "stdout",
     "output_type": "stream",
     "text": [
      "TT\n"
     ]
    },
    {
     "data": {
      "image/png": "[encoded data removed]",
      "text/plain": [
       "<PIL.Image.Image image mode=RGB size=108x107 at 0x11E728860>"
      ]
     },
     "execution_count": 86,
     "metadata": {},
     "output_type": "execute_result"
    }
   ],
   "source": [
    "correct_index=[index for index, i in enumerate(results) if i==True]\n",
    "try:\n",
    "    print(mode([labels[i] for i in correct_index]))\n",
    "except:\n",
    "    print(\"Who is that?\")\n",
    "Image.fromarray(test_img[pic_no])"
   ]
  },
  {
   "cell_type": "markdown",
   "metadata": {},
   "source": [
    "# References\n",
    "\n",
    "https://pythonhosted.org/face_recognition/face_recognition.html#face_recognition.api.compare_faces"
   ]
  },
  {
   "cell_type": "markdown",
   "metadata": {},
   "source": [
    "https://github.com/ageitgey/face_recognition/blob/master/examples/face_recognition_svm.py"
   ]
  }
 ],
 "metadata": {
  "kernelspec": {
   "display_name": "Python 3",
   "language": "python",
   "name": "python3"
  },
  "language_info": {
   "codemirror_mode": {
    "name": "ipython",
    "version": 3
   },
   "file_extension": ".py",
   "mimetype": "text/x-python",
   "name": "python",
   "nbconvert_exporter": "python",
   "pygments_lexer": "ipython3",
   "version": "3.7.3"
  }
 },
 "nbformat": 4,
 "nbformat_minor": 2
}
